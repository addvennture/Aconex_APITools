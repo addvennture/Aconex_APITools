{
  "nbformat": 4,
  "nbformat_minor": 0,
  "metadata": {
    "colab": {
      "name": "Aconex_Mail_Data_Query.ipynb",
      "provenance": [],
      "collapsed_sections": [],
      "mount_file_id": "https://gist.github.com/addvennture/9ded050983451438740a24932069bf46#file-aconex_mail_data_query_rev0-ipynb",
      "authorship_tag": "ABX9TyNOVBfSW31A0XmO2UgewaIf",
      "include_colab_link": true
    },
    "kernelspec": {
      "display_name": "Python 3",
      "name": "python3"
    }
  },
  "cells": [
    {
      "cell_type": "markdown",
      "metadata": {
        "id": "view-in-github",
        "colab_type": "text"
      },
      "source": [
        "<a href=\"https://colab.research.google.com/gist/addvennture/9ded050983451438740a24932069bf46/aconex_mail_data_query_rev0.ipynb\" target=\"_parent\"><img src=\"https://colab.research.google.com/assets/colab-badge.svg\" alt=\"Open In Colab\"/></a>"
      ]
    },
    {
      "cell_type": "markdown",
      "metadata": {
        "id": "PYdANNl47w2Y"
      },
      "source": [
        "# (0) INTRODUCTION"
      ]
    },
    {
      "cell_type": "markdown",
      "metadata": {
        "id": "K4I-Ik6H5Ymk"
      },
      "source": [
        "This notebook simplifies the process of querrying Aconex web services to retrieve project mail data across a portfolio of projects for a single user. Specifically, it retrieves all projects for a user using the Projects API and passes these to the Mail API to retrieve up to 250 projects mails per day per project and stores them either locally in a temporary csv file or to a user specified google drive account. By default up to 11 mail field/value pairs will be retrieved. Users can set the date range for the search window to limit the size of the data request/runtime, for larger projects / portfolios a shorter search window is suggested. \n",
        "\n",
        "Please see the Readme file for set up details and usage tips. "
      ]
    },
    {
      "cell_type": "markdown",
      "metadata": {
        "id": "ASGBS_mxfRba"
      },
      "source": [
        "# (1) IMPORTING REFERENCED LIBRARIES"
      ]
    },
    {
      "cell_type": "code",
      "metadata": {
        "id": "RuxKJG6oDI0X"
      },
      "source": [
        "#Importing Python Libraries\n",
        "import requests as rq\n",
        "import xml.etree.ElementTree as ET\n",
        "import pandas as pd\n",
        "import numpy as np\n",
        "import csv\n",
        "\n",
        "# Import PyDrive and associated libraries.\n",
        "from pydrive.auth import GoogleAuth\n",
        "from pydrive.drive import GoogleDrive\n",
        "from google.colab import auth\n",
        "from oauth2client.client import GoogleCredentials"
      ],
      "execution_count": null,
      "outputs": []
    },
    {
      "cell_type": "markdown",
      "metadata": {
        "id": "TdsEF-qFfJPk"
      },
      "source": [
        "# (2) SETTING SEARCH DATE RANGE"
      ]
    },
    {
      "cell_type": "code",
      "metadata": {
        "id": "pCvrYYWTMMPm"
      },
      "source": [
        "#@title Enter Search Dates { display-mode: \"form\" }\n",
        "strt_date = \"2021-02-01\" #@param {type:\"date\"}\n",
        "end_date = \"2021-02-02\" #@param {type:\"date\"}\n",
        "#Setting search window dates\n",
        "#strt_date='20201207' #start date for search\n",
        "#end_date='20201209' #end date for search \n",
        "srch_wndw=pd.date_range(strt_date, end_date)\n",
        "#print(srch_wndw[0])\n",
        "\n",
        "dates=[]\n",
        "for day in srch_wndw:\n",
        "  a=str(day)[0:10]\n",
        "  b=a.replace('-','')\n",
        "  dates.append(b)\n",
        "#print(dates) #use to check date range"
      ],
      "execution_count": null,
      "outputs": []
    },
    {
      "cell_type": "markdown",
      "metadata": {
        "id": "CoPI0fP-fZqZ"
      },
      "source": [
        "# (3) PLACEHOLDER FOR FUTURE GOOGLE DRIVE CONNECTION"
      ]
    },
    {
      "cell_type": "code",
      "metadata": {
        "id": "SSmryxbyGawT"
      },
      "source": [
        "# THIS IS AN OPTIONAL STEP TO SAVE OUTPUTS TO A GOOGLE DRIVE ACCOUNT, IF NOT USED FILES WILL BE DELETED WHEN A SESSION IS CLOSED\n",
        "# Authenticate and create the PyDrive client.\n",
        "# This only needs to be done once in a notebook.\n",
        "auth.authenticate_user()\n",
        "gauth = GoogleAuth()\n",
        "gauth.credentials = GoogleCredentials.get_application_default()\n",
        "drive = GoogleDrive(gauth)"
      ],
      "execution_count": null,
      "outputs": []
    },
    {
      "cell_type": "markdown",
      "metadata": {
        "id": "ORYxBZmLfjn9"
      },
      "source": [
        "# (4) SETTING UP THE ACONEX API CONNECTION"
      ]
    },
    {
      "cell_type": "code",
      "metadata": {
        "id": "FDZG1LRyEIO6",
        "cellView": "form"
      },
      "source": [
        "# ENTER API CREDENTIALS\n",
        "#@title Aconex API Authorisation Credentials\n",
        "username = \"\" #@param {type:\"string\"}\n",
        "password = \"\" #@param {type:\"string\"}\n",
        "key = \"\" #@param {type:\"string\"}\n",
        "b_url='https://uk1.aconex.co.uk/api/' #base path for all Aconex web services\n",
        "headers={'Accept': 'application/vnd.aconex.mail.v2+xml','Authorization': 'Bearer {0}'.format(key)}"
      ],
      "execution_count": null,
      "outputs": []
    },
    {
      "cell_type": "markdown",
      "metadata": {
        "id": "3bbY39MlfyR0"
      },
      "source": [
        "# (5) DEFINED FUNCTIIONS"
      ]
    },
    {
      "cell_type": "code",
      "metadata": {
        "id": "2AlJaNp9VGx7"
      },
      "source": [
        "#Generates a list of project mail, using \"List Mail (Version 2) in the Aconex Mail API\"\n",
        "def get_inmail(aconex_id,strt_date,end_date):\n",
        "    mailbox='inbox' #mailbox for querrying, available alternatives are: inbox, sentbox, draftbox\n",
        "    srch_qry='sentdate:[{0} TO {1}]'.format(strt_date,end_date)\n",
        "    r_fields=('corrtypeid') #check mail schema first to confirm result field availability - Available options: subject,sentdate,responsedate\n",
        "    s_field='sentdate' #results sorted by correspondence type \n",
        "    data=rq.get('https://uk1.aconex.co.uk/api/projects/{0}/mail'.format(aconex_id),auth=(username,password),headers=headers,params=({'mail_box':mailbox,'search_query':srch_qry,'return_fields':r_fields,'sort_field':s_field}))\n",
        "    root=ET.fromstring(data.text)\n",
        "    return root"
      ],
      "execution_count": null,
      "outputs": []
    },
    {
      "cell_type": "code",
      "metadata": {
        "id": "lpvdvPxQYtjC"
      },
      "source": [
        "#Generates a list of project mail, using \"List Mail (Version 2) in the Aconex Mail API\"\n",
        "def get_outmail(aconex_id,strt_date,end_date):\n",
        "    mailbox='sentbox' #mailbox for querrying, available alternatives are: inbox, sentbox, draftbox\n",
        "    srch_qry='sentdate:[{0} TO {1}]'.format(strt_date,end_date)\n",
        "    r_fields=('corrtypeid') #check mail schema first to confirm result field availability - Available options: subject,sentdate,responsedate\n",
        "    s_field='sentdate' #results sorted by correspondence type \n",
        "    data=rq.get('https://uk1.aconex.co.uk/api/projects/{0}/mail'.format(aconex_id),auth=(username,password),headers=headers,params=({'mail_box':mailbox,'search_query':srch_qry,'return_fields':r_fields,'sort_field':s_field}))\n",
        "    root=ET.fromstring(data.text)\n",
        "    return root"
      ],
      "execution_count": null,
      "outputs": []
    },
    {
      "cell_type": "code",
      "metadata": {
        "id": "lgh0t2EkVyPs"
      },
      "source": [
        "#GETS metadata for individual mails using 'View Mail Metadata (V2)'\n",
        "def get_mailmeta(aconex_id,mail_id):\n",
        "    data=rq.get('https://uk1.aconex.co.uk/api/projects/{0}/mail/{1}'.format(aconex_id,mail_id),auth=(username,password),headers=headers)\n",
        "    #root=ET.fromstring(data.text)\n",
        "    return data"
      ],
      "execution_count": null,
      "outputs": []
    },
    {
      "cell_type": "code",
      "metadata": {
        "id": "E9pkCJajXIPZ"
      },
      "source": [
        "#Function creates a dictionary of mail ids for a project\n",
        "def prj_mails(mail_root):\n",
        "  prj_mails={}\n",
        "  counter=0\n",
        "  for mail in mail_root.findall('.//Mail'):\n",
        "    prj_mails[counter]=mail.attrib\n",
        "    counter=counter+1\n",
        "  return prj_mails"
      ],
      "execution_count": null,
      "outputs": []
    },
    {
      "cell_type": "code",
      "metadata": {
        "id": "5ubUu7yBBT87"
      },
      "source": [
        "#THIS FUNCTION CAPTURES SOME OF THE AVAILABLE #Option to permanently save temporary csv file to Google Drive.\n",
        "#Note requires authentication in Section 3.\n",
        "def maildata3(mailmeta_root):\n",
        "  try:\n",
        "    prj_id=mailmeta_root.find('ProjectId').text\n",
        "  except:\n",
        "    prj_id='NONE'\n",
        "  try:\n",
        "    corrtype=mailmeta_root.find('CorrespondenceType').text\n",
        "  except:\n",
        "    corrtype='NONE'\n",
        "  try:\n",
        "    sentdate=mailmeta_root.find('SentDate').text\n",
        "  except:\n",
        "    sentdate='NONE'\n",
        "  try:\n",
        "    status=mailmeta_root.find('Status').text\n",
        "  except:\n",
        "    status='NONE'\n",
        "  try:\n",
        "    subject=mailmeta_root.find('Subject').text\n",
        "  except:\n",
        "    subject='NONE'\n",
        "  try:\n",
        "    mailthread=mailmeta_root.find('ThreadId')\n",
        "  except:\n",
        "    mailthread='NONE'\n",
        "\n",
        "  mail=mailmeta_root.attrib['MailId']\n",
        "\n",
        "  coredata=[prj_id,mail,sentdate,corrtype,subject,status,mailthread]\n",
        "\n",
        "  for mff in mailmeta_root.findall('.//MailFormField'):\n",
        "      coredata.append(mff.find('Label').text)\n",
        "      coredata.append(mff.find('Value').text)\n",
        "  return coredata"
      ],
      "execution_count": null,
      "outputs": []
    },
    {
      "cell_type": "markdown",
      "metadata": {
        "id": "20UTYl1iO_YE"
      },
      "source": [
        "# (6) GETTING LIST OF PROJECTS"
      ]
    },
    {
      "cell_type": "code",
      "metadata": {
        "id": "PWBXWFdQSDyW"
      },
      "source": [
        "#Running project search query and retrieving project list for user.\n",
        "prj_headers={'User':username,'Authorization': 'Bearer {0}'.format(key)}\n",
        "prj_data=rq.get('https://uk1.aconex.co.uk/api/projects',auth=(username,password),headers=prj_headers)\n",
        "prj_root=ET.fromstring(prj_data.text) #Bringing data into element tree for processing\n",
        "#[elem.tag for elem in prj_root.iter()] #Optional step to check data structure\n",
        "#prj_root.attrib #Check on total number of projects "
      ],
      "execution_count": null,
      "outputs": []
    },
    {
      "cell_type": "code",
      "metadata": {
        "id": "bhyizjJcSPyg"
      },
      "source": [
        "#Generating a list of project ids for mail search queries.\n",
        "prj_ids=[]\n",
        "for child in prj_root.iter('ProjectId'):\n",
        "    prj_ids.append(child.text)"
      ],
      "execution_count": null,
      "outputs": []
    },
    {
      "cell_type": "markdown",
      "metadata": {
        "id": "r7qlr6wYPjeq"
      },
      "source": [
        "# (7) FETCHING & SAVING MAIL DATA"
      ]
    },
    {
      "cell_type": "code",
      "metadata": {
        "id": "MMmqOJLJgKMu"
      },
      "source": [
        "#Opening temporary csv file to write data out to. \n",
        "with open('TEMP_DATA.csv',mode='w') as csvfile:\n",
        "    csvwriter=csv.writer(csvfile)"
      ],
      "execution_count": null,
      "outputs": []
    },
    {
      "cell_type": "code",
      "metadata": {
        "id": "RcLat7kygwGh"
      },
      "source": [
        "#Getting data for all INBOX mails on all projects for the search date range and writting them to a csv file\n",
        "#Note depending on the size of the query this may take a while to run.\n",
        "for day in dates:\n",
        "  for prj_id in prj_ids:\n",
        "    mails=get_inmail(prj_id,day,day) \n",
        "    p_mails=prj_mails(mails)\n",
        "    #print(p_mails)\n",
        "    counter=0\n",
        "    for mail in p_mails:\n",
        "      mail_id=p_mails[counter]['MailId']\n",
        "      #print(prj_id,mail_id)\n",
        "      metadata=get_mailmeta(prj_id,mail_id)\n",
        "      mailmeta_root=ET.fromstring(metadata.text)\n",
        "      md=maildata3(mailmeta_root)\n",
        "      df=pd.DataFrame(md)\n",
        "      dft=df.transpose()\n",
        "      dft.to_csv('TEMP_DATA.csv',header=False,mode='a')\n",
        "      counter=counter+1\n",
        "      #print(md)"
      ],
      "execution_count": null,
      "outputs": []
    },
    {
      "cell_type": "code",
      "metadata": {
        "id": "y1h-uO7td74w"
      },
      "source": [
        "#Getting data for all SENT mails on all projects for the search date range and adding them to the AGM_data.csv file\n",
        "#Note depending on the size of the query this may take a while to run.\n",
        "for day in dates:\n",
        "  for prj_id in prj_ids:\n",
        "    mails=get_outmail(prj_id,day,day) \n",
        "    p_mails=prj_mails(mails)\n",
        "    #print(p_mails)\n",
        "    counter=0\n",
        "    for mail in p_mails:\n",
        "      mail_id=p_mails[counter]['MailId']\n",
        "      #print(prj_id,mail_id)\n",
        "      metadata=get_mailmeta(prj_id,mail_id)\n",
        "      mailmeta_root=ET.fromstring(metadata.text)\n",
        "      md=maildata3(mailmeta_root)\n",
        "      df=pd.DataFrame(md)\n",
        "      dft=df.transpose()\n",
        "      dft.to_csv('TEMP_DATA.csv',header=False,mode='a')\n",
        "      counter=counter+1\n",
        "      #print(md)"
      ],
      "execution_count": null,
      "outputs": []
    },
    {
      "cell_type": "code",
      "metadata": {
        "id": "pkEpeO9OHO5B"
      },
      "source": [
        "#Option to permanently save temporary csv file to Google Drive.\n",
        "#Note requires authentication in Section 3.\n",
        "ftd=drive.CreateFile({'title':'Aconex_Mail_Data{0}_{1}'.format(strt_date,end_date)}) #Creates file with a name matching the search window dates\n",
        "ftd.SetContentFile('/content/TEMP_DATA.csv') #sets processed mail data from above cells as content to upload to new file\n",
        "ftd.Upload() #uploads content \n",
        "print('title:%s, id:%s' % (ftd['title'],ftd['id'])) #prints file name and google drive id"
      ],
      "execution_count": null,
      "outputs": []
    }
  ]
}